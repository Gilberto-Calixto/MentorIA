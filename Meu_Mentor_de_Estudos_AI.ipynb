{
  "nbformat": 4,
  "nbformat_minor": 0,
  "metadata": {
    "colab": {
      "provenance": [],
      "authorship_tag": "ABX9TyNOJq7IPN+IHJQIWS+LPZNp",
      "include_colab_link": true
    },
    "kernelspec": {
      "name": "python3",
      "display_name": "Python 3"
    },
    "language_info": {
      "name": "python"
    }
  },
  "cells": [
    {
      "cell_type": "markdown",
      "metadata": {
        "id": "view-in-github",
        "colab_type": "text"
      },
      "source": [
        "<a href=\"https://colab.research.google.com/github/Gilberto-Calixto/MentorIA/blob/main/Meu_Mentor_de_Estudos_AI.ipynb\" target=\"_parent\"><img src=\"https://colab.research.google.com/assets/colab-badge.svg\" alt=\"Open In Colab\"/></a>"
      ]
    },
    {
      "cell_type": "code",
      "source": [
        "# Configura a API Key do Google Gemini\n",
        "\n",
        "import os\n",
        "from google.colab import userdata\n",
        "\n",
        "os.environ[\"GOOGLE_API_KEY\"] = userdata.get(\"GOOGLE_API_KEY\")\n",
        "\n",
        "\n"
      ],
      "metadata": {
        "id": "Fx5MCgkyQMa8"
      },
      "execution_count": null,
      "outputs": []
    },
    {
      "cell_type": "code",
      "source": [
        "# Configura o cliente da SDK do Gemini\n",
        "\n",
        "from google import genai\n",
        "\n",
        "client = genai.Client()\n",
        "\n",
        "model = \"gemini-2.0-flash\""
      ],
      "metadata": {
        "id": "HC9NovQMQ31x"
      },
      "execution_count": null,
      "outputs": []
    },
    {
      "cell_type": "code",
      "source": [],
      "metadata": {
        "id": "_WL8Lm8nRKOz"
      },
      "execution_count": null,
      "outputs": []
    },
    {
      "cell_type": "code",
      "source": [
        "!pip install -q google-adk"
      ],
      "metadata": {
        "collapsed": true,
        "id": "cqbXJA8ARm-x"
      },
      "execution_count": null,
      "outputs": []
    },
    {
      "cell_type": "code",
      "source": [
        "# Dependências para criar r formatar agentes de ia\n",
        "from google.adk.agents import Agent\n",
        "\n",
        "from google.adk.runners import Runner\n",
        "\n",
        "from google.adk.sessions import InMemorySessionService\n",
        "\n",
        "from google.adk.tools import google_search\n",
        "\n",
        "from google.genai import types # Para criar conteúdos (Content e Part)\n",
        "\n",
        "from datetime import date\n",
        "\n",
        "import textwrap # Para formatar melhor a saída de texto\n",
        "\n",
        "from IPython.display import display, Markdown # Para exibir texto formatado no Colab\n",
        "\n",
        "import requests # Para fazer requisições HTTP\n",
        "\n",
        "import warnings\n",
        "\n",
        "warnings.filterwarnings(\"ignore\")"
      ],
      "metadata": {
        "id": "mVualXGRRt_R"
      },
      "execution_count": null,
      "outputs": []
    },
    {
      "cell_type": "code",
      "source": [
        "# Criador de agente\n",
        "\n",
        "#session_service = InMemorySessionService()\n",
        "\n",
        "def call_agent(agent: Agent, message_text: str) -> str:\n",
        "    # Cria um serviço de sessão em memória\n",
        "    session_service = InMemorySessionService()\n",
        "\n",
        "    # Criar uma nova sessão (você pode personalizar os IDs conforme o necessário)\n",
        "    session = session_service.create_session(app_name=agent.name, user_id=\"user1\", session_id=\"session1\")\n",
        "\n",
        "    # Criar Runner para o agente\n",
        "    runner = Runner(agent=agent, app_name=agent.name, session_service=session_service)\n",
        "\n",
        "    # Criar conteúdo da mensagem de entrada\n",
        "    content = types.Content(role=\"user\", parts=[types.Part(text=message_text)])\n",
        "\n",
        "    final_response = \"\"\n",
        "\n",
        "    # Itera assincronamente pelos eventos retornados durante a execução do agente\n",
        "    for event in runner.run(user_id=\"user1\", session_id=\"session1\", new_message=content):\n",
        "        if event.is_final_response():\n",
        "            for part in event.content.parts:\n",
        "                if part.text is not None:\n",
        "                    final_response += part.text + \"\\n\"\n",
        "\n",
        "    return final_response\n"
      ],
      "metadata": {
        "id": "P6WndYdPSInN"
      },
      "execution_count": null,
      "outputs": []
    },
    {
      "cell_type": "code",
      "source": [
        "# Criar Agente 1 -> Gerador de Resumos\n",
        "\n",
        "def agente_resumidor(assunto, data_de_hoje):\n",
        "    resumidor = Agent(\n",
        "        name=\"agente_resumidor\",\n",
        "        model=\"gemini-2.0-flash\",\n",
        "        instruction='''\n",
        "        Você é um assistente especialista em criar resumos de estudos, desde pequenos a grandes textos.\n",
        "        A sua tarefa é usar a ferramenta de busca do Google (google_search).\n",
        "\n",
        "        Busque conhecimento e soluções relevantes, bem descritas e por ordem de relevância no aprendizado\n",
        "        sobre o conteúdo passado.\n",
        "\n",
        "        Priorize até 5 conteúdos dos mais relevantes sobre o assunto passado, levando em conta feedbacks,\n",
        "        avaliação e visibilidade.\n",
        "\n",
        "        Ignore conteúdos com pouca relevância e visibilidade, a não ser que sejam as únicas opções.\n",
        "\n",
        "        Busque prioritariamente os conteúdos e assuntos mais atuais, de no máximo um ano em relação à data de hoje.\n",
        "        Caso eles não atendam aos requisitos passados, busque outras fontes.\n",
        "        ''',\n",
        "        description=\"Agente que resume busca de conteúdos de estudo\",\n",
        "        tools=[google_search]\n",
        "    )\n",
        "\n",
        "    entrada_do_agente_resumidor = f\"Assunto: {assunto}\\nData de hoje: {data_de_hoje}\"\n",
        "    resumo = call_agent(resumidor, entrada_do_agente_resumidor)\n",
        "\n",
        "    return resumo\n"
      ],
      "metadata": {
        "id": "CEdMXjkJU9sK"
      },
      "execution_count": null,
      "outputs": []
    },
    {
      "cell_type": "code",
      "source": [
        "# Agente Criador de Quiz\n",
        "\n",
        "def agente_criador_quiz(assunto, qtd):\n",
        "\n",
        "  quiz_agent = Agent(\n",
        "      name=\"quiz_agent\",\n",
        "      model= \"gemini-2.0-flash\",\n",
        "      instruction=f'''\n",
        "      Você é um asistente de estudos que tem a responsabilidade e função de criar\n",
        "      quizzes de estudo. baseados no {assunto} informado(caso o assunto venham\n",
        "      com muito conteúdo em excesso, resuma, mas resuma bem pouco) e a quantidade\n",
        "      informada {qtd}.\n",
        "      Siga a ordem de pergunta e respostas do modelo de quiz.\n",
        "\n",
        "      a cada quiz informe se acertou ou errou.\n",
        "\n",
        "      no final liste as perguntas e respostas com os acertos e erros.\n",
        "      ''',\n",
        "\n",
        "      description= \"Agente que cria quizzes de estudo\",\n",
        "  )\n",
        "\n",
        "  entrada = f\" Assunto: {assunto}\\nQuantidade de perguntas do quiz: {qtd}\"\n",
        "  result = call_agent(quiz_agent, entrada)\n",
        "  return result"
      ],
      "metadata": {
        "id": "J5zlnkFlnHz4"
      },
      "execution_count": null,
      "outputs": []
    },
    {
      "cell_type": "code",
      "source": [
        "# Agente Explicador de Conceitos:\n",
        "\n",
        "def agente_explicador_de_conceitos(assunto):\n",
        "\n",
        "  explicador_de_conceitos = Agent(\n",
        "      name=\"explicador_de_conceitos\",\n",
        "      model= \"gemini-2.0-flash\",\n",
        "      instruction=f'''\n",
        "      Você é especialista em explicar conceitos de forma clara e entendível com base\n",
        "      no nível de quem você vai instruir.\n",
        "\n",
        "      Seguindo o seguinte formato, explique os principais conceitos do assunto informado,\n",
        "      de forma clara e objetiva. Com alegorias e exemplos.\n",
        "\n",
        "      Lembre-se! explique da melhor forma possível e com uma dose de\n",
        "      entusiasmos e criatividade.\n",
        "      ''',\n",
        "      description=\"Agente Explicador\"\n",
        "  )\n",
        "\n",
        "  entrada_exp = f\"Assunto: {assunto}\"\n",
        "  result_explicador = call_agent(explicador_de_conceitos, entrada_exp)\n",
        "  return result_explicador"
      ],
      "metadata": {
        "id": "bImEuU6xrpot"
      },
      "execution_count": null,
      "outputs": []
    },
    {
      "cell_type": "code",
      "source": [
        "date_hoje = date.today().strftime(\"%d/%m/%Y\")\n",
        "\n",
        "print(\"🚀 Iniciando o Sistema de MentorIA com 3 Agentes 🚀\")\n",
        "\n",
        "assunto = input(\"❓ Por favor, digite o ASSUNTO quer aprender e conhecer melhor: \")\n",
        "\n",
        "if not assunto:\n",
        "\n",
        "  print(\"Você esqueceu de digitar o assunto!\")\n",
        "\n",
        "else:\n",
        "\n",
        "  print(f\"Maravilha! Aprender mais sobre {assunto}\")\n",
        "\n",
        "\n",
        "  ######## AGENTE 1 ##########\n",
        "\n",
        "  gerado = agente_resumidor(assunto=assunto, data_de_hoje=date_hoje)\n",
        "\n",
        "  print(\"\\n--- 📝 Resultado do Agente 1 (Resumidor) ---\\n\")\n",
        "\n",
        "  display(gerado)\n",
        "\n",
        "  print(\"--------------------------------------------------------------\")\n",
        "\n",
        "  ######## AGENTE 2 ##########\n",
        "  quiz_result = agente_criador_quiz(assunto=assunto, qtd=10)\n",
        "  print(\"\\n--- 📝 Resultado do Agente 2 (Gerador de Quiz) ---\\n\")\n",
        "\n",
        "\n",
        "  display(quiz_result)\n",
        "  print(\"--------------------------------------------------------------\")\n",
        "\n",
        "  ######## AGENTE 3 ##########\n",
        "  explicacao = agente_explicador_de_conceitos(assunto=assunto)\n",
        "  print(\"\\n--- 📝 Resultado do Agente 3 (Explicador) ---\\n\")\n",
        "\n",
        "\n",
        "  display(explicacao)\n",
        "  print(\"--------------------------------------------------------------\")\n"
      ],
      "metadata": {
        "colab": {
          "base_uri": "https://localhost:8080/",
          "height": 645
        },
        "collapsed": true,
        "id": "T7gRxmFhtuVZ",
        "outputId": "7661e860-e1a5-4912-bf2f-3dca9b03a109"
      },
      "execution_count": null,
      "outputs": [
        {
          "output_type": "stream",
          "name": "stdout",
          "text": [
            "🚀 Iniciando o Sistema de MentorIA com 3 Agentes 🚀\n",
            "❓ Por favor, digite o ASSUNTO quer aprender e conhecer melhor: kotlin\n",
            "Maravilha! Aprender mais sobre kotlin\n",
            "\n",
            "--- 📝 Resultado do Agente 1 (Buscador) ---\n",
            "\n"
          ]
        },
        {
          "output_type": "display_data",
          "data": {
            "text/plain": [
              "'Para fornecer um resumo conciso e relevante sobre Kotlin, farei algumas buscas no Google para identificar os recursos mais atuais e informativos, priorizando aqueles com boa avaliação e visibilidade.\\n\\n\\nCom base nas buscas realizadas, aqui está um resumo sobre Kotlin, priorizando informações atuais e relevantes para 2025:\\n\\n**Kotlin: Visão Geral**\\n\\nKotlin é uma linguagem de programação moderna, concisa e de tipagem estática, desenvolvida pela JetBrains (a mesma empresa por trás do IntelliJ IDEA). Ela é interoperável com Java, o que significa que você pode usar código Java existente em projetos Kotlin e vice-versa. Kotlin é a linguagem oficial do Google para desenvolvimento Android, mas também pode ser usada para desenvolvimento web, server-side e multi plataforma.\\n\\n**Principais Características e Vantagens:**\\n\\n*   **Concisão e Legibilidade:** Kotlin reduz a quantidade de código boilerplate, tornando o código mais fácil de ler e manter.\\n*   **Segurança Nula (Null Safety):** Um dos maiores benefícios do Kotlin é a segurança nula, que ajuda a evitar NullPointerExceptions, um problema comum em Java.\\n*   **Interoperabilidade com Java:** Kotlin é totalmente compatível com Java, permitindo que desenvolvedores usem bibliotecas e frameworks Java existentes.\\n*   **Multiplataforma (Kotlin Multiplatform - KMP):** KMP permite compartilhar código entre diferentes plataformas (Android, iOS, Web, Desktop), reduzindo a duplicação de código e o tempo de desenvolvimento.\\n*   **Corrotinas:** Kotlin facilita a programação assíncrona com corrotinas, tornando o código mais legível e eficiente ao lidar com tarefas simultâneas.\\n*   **Funções de Extensão:** Permitem adicionar novas funcionalidades a classes existentes sem modificar o código original.\\n*   **Data Classes:** Simplificam a criação de classes para armazenar dados, gerando automaticamente métodos como `equals()`, `hashCode()` e `toString()`.\\n\\n**Kotlin Multiplataforma (KMP) em 2025:**\\n\\n*   A JetBrains está investindo fortemente no KMP, com foco em facilitar o desenvolvimento de aplicativos móveis multiplataforma para Android e iOS.\\n*   O Compose Multiplatform está se tornando uma opção viável para compartilhar a interface do usuário entre plataformas.\\n*   Ferramentas como o Kotlin-to-Swift export estão sendo desenvolvidas para melhorar a interoperabilidade com Swift no desenvolvimento iOS.\\n*   O KMP está ganhando tração, com empresas como Netflix, McDonald\\'s e Philips adotando-o para aumentar a eficiência do desenvolvimento e a reutilização de código.\\n\\n**Melhores Práticas em Kotlin:**\\n\\n*   **Sintaxe:** Tenha um conhecimento sólido da sintaxe do Kotlin.\\n*   **Null Safety:** Utilize os recursos de segurança nula do Kotlin para evitar erros.\\n*   **Funções de Extensão:** Use funções de extensão para aumentar a legibilidade do código.\\n*   **Data Classes:** Adote data classes para lidar com modelos de dados.\\n*   **Corrotinas:** Aproveite as corrotinas para programação assíncrona.\\n*   **Injeção de Dependência:** Implemente injeção de dependência para um código mais limpo.\\n*   **Testes Unitários:** Escreva testes unitários para garantir a qualidade e confiabilidade do código.\\n*   **Coding Conventions:** Siga as convenções de código oficiais do Kotlin.\\n*   **Variáveis:** Utilize declarações de variáveis seguras, como tipos não nulos e `val` (imutável).\\n*   **Arquitetura:** Siga as recomendações de arquitetura do Android, como a utilização de ViewModels e Unidirectional Data Flow (UDF).\\n\\n**Recursos de Aprendizagem:**\\n\\n*   **Cursos Online:**\\n    *   Kotlin for Java Developers (JetBrains/Coursera)\\n    *   Programming Fundamentals in Kotlin (Meta/Coursera)\\n    *   Android Basics in Kotlin (Google/Coursera)\\n    *   Kotlin Core (JetBrains Academy)\\n    *   Kotlin Backend Developer (Spring Boot) (JetBrains Academy)\\n    *   Vários cursos no Udemy (buscar por \"Kotlin\" e filtrar por avaliações e nível)\\n*   **Tutoriais:**\\n    *   Kotlin Tutorial for Beginners (Amigoscode/YouTube)\\n    *   Android Studio Tutorial (2024 Edition) (YouTube)\\n*   **Documentação Oficial:** kotlinlang.org\\n*   **Comunidades:** Kotlinlang Slack\\n*   **JetBrains Academy:** Plataforma de aprendizado prático com projetos.\\n\\n**Ferramentas de Desenvolvimento:**\\n\\n*   **IntelliJ IDEA:** IDE recomendado para desenvolvimento Kotlin, com suporte integrado e recursos avançados.\\n*   **Android Studio:** IDE oficial para desenvolvimento Android, com suporte completo para Kotlin.\\n\\n**Kotlin vs. Java:**\\n\\nKotlin oferece várias vantagens sobre Java, incluindo:\\n\\n*   Código mais conciso e legível.\\n*   Maior segurança nula.\\n*   Suporte a corrotinas para programação assíncrona.\\n*   Funções de extensão.\\n*   Data classes.\\n\\n**Em resumo:** Kotlin é uma excelente escolha para desenvolvedores que buscam uma linguagem moderna, eficiente e segura para desenvolvimento Android e multiplataforma. Com o forte apoio da JetBrains e do Google, Kotlin continua a evoluir e a ganhar popularidade na comunidade de desenvolvimento.\\n\\n'"
            ],
            "application/vnd.google.colaboratory.intrinsic+json": {
              "type": "string"
            }
          },
          "metadata": {}
        },
        {
          "output_type": "stream",
          "name": "stdout",
          "text": [
            "--------------------------------------------------------------\n",
            "\n",
            "--- 📝 Resultado do Agente 1 (Buscador) ---\n",
            "\n"
          ]
        },
        {
          "output_type": "display_data",
          "data": {
            "text/plain": [
              "'Ok, vamos criar um quiz de 10 perguntas sobre Kotlin. Prepare-se para testar seus conhecimentos!\\n\\n**Quiz de Kotlin**\\n\\n1.  Qual palavra-chave é usada para declarar uma variável imutável em Kotlin?\\n    *   a) `var`\\n    *   b) `val`\\n    *   c) `const`\\n    *   d) `static`\\n    *   **Sua resposta:**\\n\\n2.  Qual operador é usado para verificar igualdade estrutural em Kotlin?\\n    *   a) `==`\\n    *   b) `===`\\n    *   c) `equals()`\\n    *   d) `!=`\\n    *   **Sua resposta:**\\n\\n3.  Qual das seguintes opções não é um tipo de dado numérico em Kotlin?\\n    *   a) `Int`\\n    *   b) `Float`\\n    *   c) `Double`\\n    *   d) `String`\\n    *   **Sua resposta:**\\n\\n4.  Como você define uma função em Kotlin?\\n    *   a) `function myFunction() {}`\\n    *   b) `fun myFunction() {}`\\n    *   c) `def myFunction() {}`\\n    *   d) `void myFunction() {}`\\n    *   **Sua resposta:**\\n\\n5.  Qual é a função usada para imprimir algo no console em Kotlin?\\n    *   a) `System.out.println()`\\n    *   b) `print()`\\n    *   c) `log()`\\n    *   d) `console.log()`\\n    *   **Sua resposta:**\\n\\n6.  O que é uma \"data class\" em Kotlin?\\n    *   a) Uma classe que só pode conter dados.\\n    *   b) Uma classe que automaticamente gera métodos como `equals()`, `hashCode()`, e `toString()`.\\n    *   c) Uma classe que não pode ser instanciada.\\n    *   d) Uma classe que só pode ser usada para armazenar datas.\\n    *   **Sua resposta:**\\n\\n7.  Qual operador é usado para safe call em Kotlin?\\n    *   a) `.`\\n    *   b) `::`\\n    *   c) `?.`\\n    *   d) `!!`\\n    *   **Sua resposta:**\\n\\n8.  O que é uma coroutine em Kotlin?\\n    *   a) Uma thread leve que pode ser suspensa e retomada.\\n    *   b) Uma classe que só pode ser executada em paralelo.\\n    *   c) Uma função que não pode ser interrompida.\\n    *   d) Um tipo especial de variável.\\n    *   **Sua resposta:**\\n\\n9.  Qual palavra-chave é usada para criar uma classe abstrata em Kotlin?\\n    *   a) `open`\\n    *   b) `sealed`\\n    *   c) `abstract`\\n    *   d) `interface`\\n    *   **Sua resposta:**\\n\\n10. O que é um \"companion object\" em Kotlin?\\n    *   a) Um objeto que acompanha uma classe e contém métodos e propriedades estáticas.\\n    *   b) Um objeto que só pode ser usado dentro de uma classe.\\n    *   c) Um objeto que é automaticamente criado para cada instância de uma classe.\\n    *   d) Um objeto que é usado para herança múltipla.\\n    *   **Sua resposta:**\\n\\nAgora, insira suas respostas para que eu possa verificar e fornecer o resultado!\\n\\n'"
            ],
            "application/vnd.google.colaboratory.intrinsic+json": {
              "type": "string"
            }
          },
          "metadata": {}
        },
        {
          "output_type": "stream",
          "name": "stdout",
          "text": [
            "--------------------------------------------------------------\n",
            "\n",
            "--- 📝 Resultado do Agente 1 (Buscador) ---\n",
            "\n"
          ]
        },
        {
          "output_type": "display_data",
          "data": {
            "text/plain": [
              "'E aí, futuro mestre do Kotlin! 👋 Prepare-se para uma jornada incrível no mundo da programação, onde você vai criar apps incríveis e resolver problemas como um verdadeiro ninja! Kotlin é uma linguagem de programação moderna, criada para ser fácil de aprender e superpoderosa. Deixa eu te explicar os principais conceitos de um jeito que você nunca mais vai esquecer:\\n\\n**1. Variáveis: As Caixas Mágicas da Informação** 📦✨\\n\\nImagine que você tem várias caixas onde pode guardar coisas: brinquedos, livros, cartas... No Kotlin, as variáveis são como essas caixas! Elas servem para guardar informações que o seu programa vai usar.\\n\\n*   **`var`**: É como uma caixa que você pode abrir e trocar o conteúdo quando quiser. Exemplo:\\n\\n    ```kotlin\\n    var nome = \"Alice\" // Criei uma caixa chamada \\'nome\\' e guardei \\'Alice\\' dentro\\n    nome = \"Bob\"      // Troquei o conteúdo da caixa \\'nome\\' para \\'Bob\\'\\n    ```\\n*   **`val`**: É uma caixa especial, que você só pode preencher uma vez! Depois que colocou algo dentro, não dá para mudar. Exemplo:\\n\\n    ```kotlin\\n    val pi = 3.1415   // \\'pi\\' é uma constante, nunca vai mudar!\\n    // pi = 3.15      // Isso daria erro! \\'val\\' não permite alterações\\n    ```\\n\\n**2. Funções: As Receitas do Seu Programa** 🍳📜\\n\\nSabe quando você segue uma receita para fazer um bolo delicioso? As funções no Kotlin são como essas receitas! Elas são blocos de código que fazem uma tarefa específica.\\n\\n*   **`fun`**: É a palavra mágica que diz ao Kotlin que você está criando uma função. Exemplo:\\n\\n    ```kotlin\\n    fun bomDia(nome: String): String {\\n        return \"Olá, $nome! Bom dia!\"\\n    }\\n\\n    val mensagem = bomDia(\"Carlos\") // A função \\'bomDia\\' cria uma mensagem personalizada\\n    println(mensagem) // Imprime: Olá, Carlos! Bom dia!\\n    ```\\n\\n**3. Classes: As Plantas das Suas Criações** 🌳🏗️\\n\\nPense em classes como plantas de construção. Com uma planta, você pode construir várias casas iguais, mas cada uma é única! No Kotlin, as classes são moldes para criar objetos.\\n\\n*   **`class`**: Define um tipo de objeto com suas características (variáveis) e ações (funções). Exemplo:\\n\\n    ```kotlin\\n    class Pessoa(val nome: String, var idade: Int) {\\n        fun fazerAniversario() {\\n            idade++ // Aumenta a idade da pessoa\\n            println(\"Parabéns, $nome! Agora você tem $idade anos!\")\\n        }\\n    }\\n\\n    val maria = Pessoa(\"Maria\", 30) // Criei uma pessoa chamada Maria, com 30 anos\\n    maria.fazerAniversario() // Maria faz aniversário!\\n    ```\\n\\n**4. Condicionais: As Escolhas do Seu Programa** 🚦🛣️\\n\\nImagine que você está em um cruzamento e precisa escolher qual caminho seguir. As condicionais são como placas que te ajudam a decidir!\\n\\n*   **`if` / `else`**: Permitem que o programa tome decisões com base em condições. Exemplo:\\n\\n    ```kotlin\\n    val temperatura = 25\\n\\n    if (temperatura > 25) {\\n        println(\"Está calor! Vamos tomar um sorvete!\")\\n    } else {\\n        println(\"Está agradável. Que tal um café?\")\\n    }\\n    ```\\n\\n**5. Loops: As Repetições Mágicas** 🔄✨\\n\\nSabe quando você precisa fazer a mesma coisa várias vezes? Os loops são como um feitiço que te ajuda a repetir tarefas automaticamente!\\n\\n*   **`for`**: Repete um bloco de código para cada item em uma coleção.\\n*   **`while`**: Repete um bloco de código enquanto uma condição for verdadeira.\\n\\n    ```kotlin\\n    // Usando \\'for\\' para imprimir números de 1 a 5\\n    for (i in 1..5) {\\n        println(\"Número: $i\")\\n    }\\n\\n    // Usando \\'while\\' para contar até 10\\n    var contador = 1\\n    while (contador <= 10) {\\n        println(\"Contador: $contador\")\\n        contador++ // Aumenta o contador em 1 a cada repetição\\n    }\\n    ```\\n\\n**Kotlin é Incrível!** 😎🚀\\n\\nCom esses conceitos básicos, você já pode começar a criar seus próprios programas! Kotlin é uma linguagem moderna, segura e cheia de recursos que vão te ajudar a construir apps incríveis para Android, servidores e muito mais.\\n\\nEntão, prepare-se para explorar, experimentar e se divertir com Kotlin! O mundo da programação está esperando por você! 😉\\n\\n'"
            ],
            "application/vnd.google.colaboratory.intrinsic+json": {
              "type": "string"
            }
          },
          "metadata": {}
        },
        {
          "output_type": "stream",
          "name": "stdout",
          "text": [
            "--------------------------------------------------------------\n"
          ]
        }
      ]
    }
  ]
}